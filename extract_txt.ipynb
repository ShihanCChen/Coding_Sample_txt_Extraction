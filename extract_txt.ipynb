{
 "cells": [
  {
   "cell_type": "code",
   "execution_count": null,
   "id": "e636a444-0554-4d2f-8a52-f19eeb04239d",
   "metadata": {},
   "outputs": [],
   "source": [
    "import os\n",
    "import json\n",
    "import pandas as pd\n",
    "\n",
    "\n",
    "def convert_txt_to_csv():\n",
    "    txt_files = [f for f in os.listdir(\".\") if f.endswith(\".txt\")]\n",
    "    combined_df = pd.DataFrame()\n",
    "\n",
    "    for txt_file in txt_files:\n",
    "        with open(txt_file, \"r\", encoding=\"utf-8\") as file:\n",
    "            try:\n",
    "                data = json.load(file)\n",
    "                df = pd.json_normalize(data)\n",
    "                combined_df = pd.concat([combined_df, df], ignore_index=True)\n",
    "                print(f\"Successfully processed {txt_file}\")\n",
    "            except json.JSONDecodeError:\n",
    "                print(f\"Error decoding JSON in file: {txt_file}\")\n",
    "    combined_df.to_csv(\"combined_output.csv\", index=False, encoding=\"utf-8-sig\")\n",
    "\n",
    "\n",
    "if __name__ == \"__main__\":\n",
    "    convert_txt_to_csv()\n",
    "\n",
    "\n",
    "###\n",
    "#Import the necessary libraries: os, json, and pandas.\n",
    "#Define the convert_txt_to_csv function to perform the file conversion operation.\n",
    "#Get all .txt files in the current directory.\n",
    "#Initialize an empty DataFrame to store data from all files.\n",
    "#Iterate through each .txt file: a. Open the file and read its content. b. Try to parse the file content into JSON format. c. Use pandas.json_normalize() to convert the JSON object into a DataFrame. d. Merge the current DataFrame into the overall DataFrame.\n",
    "#If a JSON decoding error occurs during the process, print the error message.\n",
    "#Generate the output CSV file path and save the merged data as combined_output.csv.\n",
    "#Print a message indicating successful saving.\n",
    "#When the script runs, call the convert_txt_to_csv function."
   ]
  }
 ],
 "metadata": {
  "kernelspec": {
   "display_name": "Python 3 (ipykernel)",
   "language": "python",
   "name": "python3"
  },
  "language_info": {
   "codemirror_mode": {
    "name": "ipython",
    "version": 3
   },
   "file_extension": ".py",
   "mimetype": "text/x-python",
   "name": "python",
   "nbconvert_exporter": "python",
   "pygments_lexer": "ipython3",
   "version": "3.11.7"
  }
 },
 "nbformat": 4,
 "nbformat_minor": 5
}
